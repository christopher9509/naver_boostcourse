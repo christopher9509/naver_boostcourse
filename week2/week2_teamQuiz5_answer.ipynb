{
 "cells": [
  {
   "cell_type": "markdown",
   "id": "b0afb908",
   "metadata": {},
   "source": [
    "## Q5. \n",
    "\n",
    "이전에 구현한 클래스에서 merge_list의 함수 동작을 변경해야합니다. 단순합계가 아닌 평균을 구하는 함수로 변경해보세요.\n",
    "\n",
    "-  리스트의 데이터를 다루는 함수를 이용해서 구현해보세요.\n",
    "- 최종 평균을 구한 후 오름차순으로 정렬해주세요."
   ]
  },
  {
   "cell_type": "code",
   "execution_count": 2,
   "id": "4857134d",
   "metadata": {
    "ExecuteTime": {
     "end_time": "2022-01-26T05:01:45.572633Z",
     "start_time": "2022-01-26T05:01:45.554680Z"
    }
   },
   "outputs": [
    {
     "name": "stdout",
     "output_type": "stream",
     "text": [
      "[63.75, 69.5, 87.5, 87.75, 88.25, 92.0, 92.25, 92.25, 94.75, 95.0, 96.0, 99.25, 100.25, 105.25, 107.75, 108.0, 108.75, 110.75, 111.75, 112.5, 114.75, 115.75, 117.5, 119.0, 122.5]\n"
     ]
    }
   ],
   "source": [
    "import csv\n",
    "\n",
    "class ReadCSV():\n",
    "    def __init__(self, file_path):\n",
    "        self.file_path = file_path\n",
    "        self.data_sum = []\n",
    "        \n",
    "    def read_file(self):\n",
    "        with open(self.file_path, 'r') as test_file:\n",
    "            contents = csv.reader(test_file)\n",
    "            data = list(contents)\n",
    "            \n",
    "        return data\n",
    "        \n",
    "    def merge_list(self):\n",
    "        result = []\n",
    "        lines = self.read_file()\n",
    "        for i in lines :\n",
    "            temp = [int(j) for j in i]\n",
    "            result.append(sum(temp)/4)\n",
    "            result.sort(reverse=False)\n",
    "            \n",
    "        return result\n",
    "\n",
    "file_path = \"./data-01-test-score.csv\"\n",
    "read_csv = ReadCSV(file_path)\n",
    "print(read_csv.merge_list()) # 파일명 왼쪽에 *, 오른쪽에 sep='\\n' 쓰면 한줄 씩 띄어씀"
   ]
  },
  {
   "cell_type": "code",
   "execution_count": null,
   "id": "d8207ecb",
   "metadata": {},
   "outputs": [],
   "source": []
  }
 ],
 "metadata": {
  "kernelspec": {
   "display_name": "Python 3 (ipykernel)",
   "language": "python",
   "name": "python3"
  },
  "language_info": {
   "codemirror_mode": {
    "name": "ipython",
    "version": 3
   },
   "file_extension": ".py",
   "mimetype": "text/x-python",
   "name": "python",
   "nbconvert_exporter": "python",
   "pygments_lexer": "ipython3",
   "version": "3.10.0"
  },
  "toc": {
   "base_numbering": 1,
   "nav_menu": {},
   "number_sections": true,
   "sideBar": true,
   "skip_h1_title": false,
   "title_cell": "Table of Contents",
   "title_sidebar": "Contents",
   "toc_cell": false,
   "toc_position": {},
   "toc_section_display": true,
   "toc_window_display": false
  },
  "varInspector": {
   "cols": {
    "lenName": 16,
    "lenType": 16,
    "lenVar": 40
   },
   "kernels_config": {
    "python": {
     "delete_cmd_postfix": "",
     "delete_cmd_prefix": "del ",
     "library": "var_list.py",
     "varRefreshCmd": "print(var_dic_list())"
    },
    "r": {
     "delete_cmd_postfix": ") ",
     "delete_cmd_prefix": "rm(",
     "library": "var_list.r",
     "varRefreshCmd": "cat(var_dic_list()) "
    }
   },
   "types_to_exclude": [
    "module",
    "function",
    "builtin_function_or_method",
    "instance",
    "_Feature"
   ],
   "window_display": false
  }
 },
 "nbformat": 4,
 "nbformat_minor": 5
}

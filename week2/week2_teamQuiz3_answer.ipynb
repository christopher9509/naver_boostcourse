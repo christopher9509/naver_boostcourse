{
 "cells": [
  {
   "cell_type": "markdown",
   "id": "c7e0c8bb",
   "metadata": {},
   "source": [
    "### Q3. \n",
    "\n",
    "이번 시험 결과에 대한 데이터를 학과 사무실에서 CSV파일로 전달해줬습니다. 우리는 이 파일을 이용해서 데이터 처리를 진행해야 합니다. 파일 입출력을 이용해 파일 데이터를 리스트로 만들어보세요.\n",
    "\n",
    "- 파일 입출력에 사용하는 open 함수를 이용해 csv 파일 내부의 데이터를 읽어보세요\n",
    "- 파일의 경로를 file_path로 설정(ex. file_path = \"./data-01-test-score.csv\""
   ]
  },
  {
   "cell_type": "code",
   "execution_count": 59,
   "id": "b5b65d42",
   "metadata": {
    "ExecuteTime": {
     "end_time": "2022-01-26T02:29:26.624081Z",
     "start_time": "2022-01-26T02:29:26.609148Z"
    },
    "scrolled": true
   },
   "outputs": [
    {
     "data": {
      "text/plain": [
       "[' week2_teamQuiz1_answer.ipynb',\n",
       " ' week2_teamQuiz2_answer.ipynb',\n",
       " ' week2_teamQuiz3_answer.ipynb',\n",
       " ' week2_teamQuiz4_answer.ipynb',\n",
       " '.ipynb_checkpoints',\n",
       " '2. 파이썬 다지기.ipynb',\n",
       " 'cont_log.txt',\n",
       " 'data-01-test-score.csv']"
      ]
     },
     "execution_count": 59,
     "metadata": {},
     "output_type": "execute_result"
    }
   ],
   "source": [
    "import os\n",
    "\n",
    "os.getcwd()\n",
    "os.listdir()"
   ]
  },
  {
   "cell_type": "code",
   "execution_count": 60,
   "id": "f3f5b3a4",
   "metadata": {
    "ExecuteTime": {
     "end_time": "2022-01-26T02:29:26.820663Z",
     "start_time": "2022-01-26T02:29:26.799554Z"
    },
    "scrolled": true
   },
   "outputs": [
    {
     "name": "stdout",
     "output_type": "stream",
     "text": [
      "['73', '80', '75', '152']\n",
      "['93', '88', '93', '185']\n",
      "['89', '91', '90', '180']\n",
      "['96', '98', '100', '196']\n",
      "['73', '66', '70', '142']\n",
      "['53', '46', '55', '101']\n",
      "['69', '74', '77', '149']\n",
      "['47', '56', '60', '115']\n",
      "['87', '79', '90', '175']\n",
      "['79', '70', '88', '164']\n",
      "['69', '70', '73', '141']\n",
      "['70', '65', '74', '141']\n",
      "['93', '95', '91', '184']\n",
      "['79', '80', '73', '152']\n",
      "['70', '73', '78', '148']\n",
      "['93', '89', '96', '192']\n",
      "['78', '75', '68', '147']\n",
      "['81', '90', '93', '183']\n",
      "['88', '92', '86', '177']\n",
      "['78', '83', '77', '159']\n",
      "['82', '86', '90', '177']\n",
      "['86', '82', '89', '175']\n",
      "['78', '83', '85', '175']\n",
      "['76', '83', '71', '149']\n",
      "['96', '93', '95', '192']\n"
     ]
    }
   ],
   "source": [
    "import csv\n",
    "\n",
    "file_path = \"./data-01-test-score.csv\"\n",
    "\n",
    "class ReadCSV():\n",
    "    def __init__(self, file_path):\n",
    "        self.file_path = file_path\n",
    "        \n",
    "    def read_file(self):\n",
    "        with open(self.file_path, 'r') as test_file:\n",
    "            contents = csv.reader(test_file)\n",
    "            data = list(contents)\n",
    "            \n",
    "            return data\n",
    "        \n",
    "read_csv = ReadCSV(file_path)\n",
    "print(*read_csv.read_file(), sep='\\n')"
   ]
  },
  {
   "cell_type": "code",
   "execution_count": null,
   "id": "2e6337f7",
   "metadata": {},
   "outputs": [],
   "source": []
  }
 ],
 "metadata": {
  "kernelspec": {
   "display_name": "Python 3 (ipykernel)",
   "language": "python",
   "name": "python3"
  },
  "language_info": {
   "codemirror_mode": {
    "name": "ipython",
    "version": 3
   },
   "file_extension": ".py",
   "mimetype": "text/x-python",
   "name": "python",
   "nbconvert_exporter": "python",
   "pygments_lexer": "ipython3",
   "version": "3.10.0"
  },
  "toc": {
   "base_numbering": 1,
   "nav_menu": {},
   "number_sections": true,
   "sideBar": true,
   "skip_h1_title": false,
   "title_cell": "Table of Contents",
   "title_sidebar": "Contents",
   "toc_cell": false,
   "toc_position": {},
   "toc_section_display": true,
   "toc_window_display": false
  },
  "varInspector": {
   "cols": {
    "lenName": 16,
    "lenType": 16,
    "lenVar": 40
   },
   "kernels_config": {
    "python": {
     "delete_cmd_postfix": "",
     "delete_cmd_prefix": "del ",
     "library": "var_list.py",
     "varRefreshCmd": "print(var_dic_list())"
    },
    "r": {
     "delete_cmd_postfix": ") ",
     "delete_cmd_prefix": "rm(",
     "library": "var_list.r",
     "varRefreshCmd": "cat(var_dic_list()) "
    }
   },
   "types_to_exclude": [
    "module",
    "function",
    "builtin_function_or_method",
    "instance",
    "_Feature"
   ],
   "window_display": false
  }
 },
 "nbformat": 4,
 "nbformat_minor": 5
}

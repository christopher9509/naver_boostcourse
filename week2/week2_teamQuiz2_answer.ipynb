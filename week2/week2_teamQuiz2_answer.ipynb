{
 "cells": [
  {
   "cell_type": "markdown",
   "id": "e7c8016a",
   "metadata": {
    "ExecuteTime": {
     "end_time": "2022-01-25T08:05:16.275634Z",
     "start_time": "2022-01-25T08:05:16.266650Z"
    }
   },
   "source": [
    "## Q2. 다양한 탈 것을 사용하는 게임을 만드는 중입니다. 빠른 구현을 위해서 이미 구현한 Car 클래스를 이용해서 Bike라는 클래스를 새로 제작하려고 합니다. Car 클래스를 상속받아서 새로운 Bike 클래스를 아래와 같이 출력되도록 구성해보세요.\n",
    "\n",
    "1. Car class 상속, bike class 생성\n",
    "2. bike class는 size 인자를 추가로 가짐"
   ]
  },
  {
   "cell_type": "code",
   "execution_count": 6,
   "id": "87cd4373",
   "metadata": {
    "ExecuteTime": {
     "end_time": "2022-01-25T08:19:13.194883Z",
     "start_time": "2022-01-25T08:19:13.184905Z"
    }
   },
   "outputs": [
    {
     "name": "stdout",
     "output_type": "stream",
     "text": [
      "gas 2 small\n"
     ]
    }
   ],
   "source": [
    "class Car(): # 부모 클래스 선언\n",
    "    def __init__(self, fuel, wheels):\n",
    "        self.fuel = fuel\n",
    "        self.wheels = wheels\n",
    "        \n",
    "class Bike(Car): # 부모 클래스 Car로부터 상속\n",
    "    def __init__(self, fuel, wheels, size):\n",
    "        super().__init__(fuel, wheels) # 부모객체 사용\n",
    "        self.size = size # size 속성 값 추가\n",
    "\n",
    "bike = Bike(\"gas\", 2, \"small\")\n",
    "\n",
    "print(bike.fuel, bike.wheels, bike.size)"
   ]
  }
 ],
 "metadata": {
  "kernelspec": {
   "display_name": "Python 3 (ipykernel)",
   "language": "python",
   "name": "python3"
  },
  "language_info": {
   "codemirror_mode": {
    "name": "ipython",
    "version": 3
   },
   "file_extension": ".py",
   "mimetype": "text/x-python",
   "name": "python",
   "nbconvert_exporter": "python",
   "pygments_lexer": "ipython3",
   "version": "3.10.0"
  },
  "toc": {
   "base_numbering": 1,
   "nav_menu": {},
   "number_sections": true,
   "sideBar": true,
   "skip_h1_title": false,
   "title_cell": "Table of Contents",
   "title_sidebar": "Contents",
   "toc_cell": false,
   "toc_position": {},
   "toc_section_display": true,
   "toc_window_display": false
  },
  "varInspector": {
   "cols": {
    "lenName": 16,
    "lenType": 16,
    "lenVar": 40
   },
   "kernels_config": {
    "python": {
     "delete_cmd_postfix": "",
     "delete_cmd_prefix": "del ",
     "library": "var_list.py",
     "varRefreshCmd": "print(var_dic_list())"
    },
    "r": {
     "delete_cmd_postfix": ") ",
     "delete_cmd_prefix": "rm(",
     "library": "var_list.r",
     "varRefreshCmd": "cat(var_dic_list()) "
    }
   },
   "types_to_exclude": [
    "module",
    "function",
    "builtin_function_or_method",
    "instance",
    "_Feature"
   ],
   "window_display": false
  }
 },
 "nbformat": 4,
 "nbformat_minor": 5
}

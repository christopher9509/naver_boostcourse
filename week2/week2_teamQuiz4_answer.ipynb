{
 "cells": [
  {
   "cell_type": "markdown",
   "id": "4da8df60",
   "metadata": {},
   "source": [
    "## Q4. \n",
    "\n",
    "우리는 방금 CSV 파일을 읽는 함수를 구현해보았습니다. 하지만 이를 조금 더 효율적으로 사용하기 위해서 클래스로 구성을 진행하려고 합니다. 방금 구현한 함수를 포함한 클래스를 구현해보세요.\n",
    "\n",
    "- merge list를 이용해 리스트 내 데이터의 합을 출력해보세요.\n",
    "- 데이터를 합치기 전 데이터의 자료형을 변경해보세요."
   ]
  },
  {
   "cell_type": "code",
   "execution_count": 12,
   "id": "88496523",
   "metadata": {
    "ExecuteTime": {
     "end_time": "2022-01-26T09:34:51.735543Z",
     "start_time": "2022-01-26T09:34:51.714456Z"
    }
   },
   "outputs": [
    {
     "name": "stdout",
     "output_type": "stream",
     "text": [
      "['152', '73', '75', '80']\n",
      "['93', '88', '93', '185']\n",
      "['89', '91', '90', '180']\n",
      "['96', '98', '100', '196']\n",
      "['73', '66', '70', '142']\n",
      "['53', '46', '55', '101']\n",
      "['69', '74', '77', '149']\n",
      "['47', '56', '60', '115']\n",
      "['87', '79', '90', '175']\n",
      "['79', '70', '88', '164']\n",
      "['69', '70', '73', '141']\n",
      "['70', '65', '74', '141']\n",
      "['93', '95', '91', '184']\n",
      "['79', '80', '73', '152']\n",
      "['70', '73', '78', '148']\n",
      "['93', '89', '96', '192']\n",
      "['78', '75', '68', '147']\n",
      "['81', '90', '93', '183']\n",
      "['88', '92', '86', '177']\n",
      "['78', '83', '77', '159']\n",
      "['82', '86', '90', '177']\n",
      "['86', '82', '89', '175']\n",
      "['78', '83', '85', '175']\n",
      "['76', '83', '71', '149']\n",
      "['96', '93', '95', '192']\n",
      "[95.0, 114.75, 112.5, 122.5, 87.75, 63.75, 92.25, 69.5, 107.75, 100.25, 88.25, 87.5, 115.75, 96.0, 92.25, 117.5, 92.0, 111.75, 110.75, 99.25, 108.75, 108.0, 105.25, 94.75, 119.0]\n"
     ]
    }
   ],
   "source": [
    "import csv\n",
    "\n",
    "class ReadCSV():\n",
    "    def __init__(self, file_path):\n",
    "        self.file_path = file_path\n",
    "        self.data_sum = []\n",
    "        \n",
    "    def read_file(self):\n",
    "        with open(self.file_path, 'r') as test_file:\n",
    "            contents = csv.reader(test_file)\n",
    "            data = list(contents)\n",
    "            data[0].sort()\n",
    "            \n",
    "        return data\n",
    "        \n",
    "    def merge_list(self):\n",
    "        result = []\n",
    "        lines = self.read_file()\n",
    "        for i in lines :\n",
    "            temp = [int(j) for j in i]\n",
    "            result.append(sum(temp)/4)\n",
    "        return result\n",
    "\n",
    "file_path = \"./data-01-test-score.csv\"\n",
    "read_csv = ReadCSV(file_path)\n",
    "print(*read_csv.read_file(), sep='\\n') # 파일명 왼쪽에 *, 오른쪽에 sep='\\n' 쓰면 한줄 씩 띄어씀\n",
    "print(read_csv.merge_list()) # 파일명 왼쪽에 *, 오른쪽에 sep='\\n' 쓰면 한줄 씩 띄어씀"
   ]
  },
  {
   "cell_type": "code",
   "execution_count": null,
   "id": "dd777641",
   "metadata": {},
   "outputs": [],
   "source": []
  }
 ],
 "metadata": {
  "kernelspec": {
   "display_name": "Python 3 (ipykernel)",
   "language": "python",
   "name": "python3"
  },
  "language_info": {
   "codemirror_mode": {
    "name": "ipython",
    "version": 3
   },
   "file_extension": ".py",
   "mimetype": "text/x-python",
   "name": "python",
   "nbconvert_exporter": "python",
   "pygments_lexer": "ipython3",
   "version": "3.10.0"
  },
  "toc": {
   "base_numbering": 1,
   "nav_menu": {},
   "number_sections": true,
   "sideBar": true,
   "skip_h1_title": false,
   "title_cell": "Table of Contents",
   "title_sidebar": "Contents",
   "toc_cell": false,
   "toc_position": {},
   "toc_section_display": true,
   "toc_window_display": false
  },
  "varInspector": {
   "cols": {
    "lenName": 16,
    "lenType": 16,
    "lenVar": 40
   },
   "kernels_config": {
    "python": {
     "delete_cmd_postfix": "",
     "delete_cmd_prefix": "del ",
     "library": "var_list.py",
     "varRefreshCmd": "print(var_dic_list())"
    },
    "r": {
     "delete_cmd_postfix": ") ",
     "delete_cmd_prefix": "rm(",
     "library": "var_list.r",
     "varRefreshCmd": "cat(var_dic_list()) "
    }
   },
   "types_to_exclude": [
    "module",
    "function",
    "builtin_function_or_method",
    "instance",
    "_Feature"
   ],
   "window_display": false
  }
 },
 "nbformat": 4,
 "nbformat_minor": 5
}

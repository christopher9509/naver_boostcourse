{
 "cells": [
  {
   "cell_type": "markdown",
   "id": "22fdaed7",
   "metadata": {},
   "source": [
    "## Q1. 중간고사 기말 고사 점수를 따로 받아 저장하는 클래스를 구현해보세요. 단, 생성자의 인스턴스는 private으로 선언되어야 하며, 데코레이터를 이용해 데이터를 저장하고, 함수를 이용해 평균 값을 출력해보세요."
   ]
  },
  {
   "cell_type": "code",
   "execution_count": 62,
   "id": "46db6bc9",
   "metadata": {
    "ExecuteTime": {
     "end_time": "2022-01-25T08:11:03.467517Z",
     "start_time": "2022-01-25T08:11:03.449341Z"
    }
   },
   "outputs": [
    {
     "name": "stdout",
     "output_type": "stream",
     "text": [
      "62.5\n"
     ]
    }
   ],
   "source": [
    "# Q1\n",
    "\n",
    "class Score():\n",
    "    def __init__(self, mid, final):\n",
    "        self.__mid = mid\n",
    "        self.__final = final\n",
    "\n",
    "    @property\n",
    "    def mid(self):\n",
    "        return self.__mid\n",
    "    @mid.setter\n",
    "    def mid(self, value):\n",
    "        self.__mid = value\n",
    "    \n",
    "    @property\n",
    "    def final(self):\n",
    "        return self.__final\n",
    "    @final.setter\n",
    "    def final(self, value):\n",
    "        self.__final= value\n",
    "\n",
    "score= Score(50, 75)\n",
    "print((score.mid+score.final)/2)"
   ]
  },
  {
   "cell_type": "code",
   "execution_count": null,
   "id": "630df676",
   "metadata": {},
   "outputs": [],
   "source": []
  }
 ],
 "metadata": {
  "kernelspec": {
   "display_name": "Python 3 (ipykernel)",
   "language": "python",
   "name": "python3"
  },
  "language_info": {
   "codemirror_mode": {
    "name": "ipython",
    "version": 3
   },
   "file_extension": ".py",
   "mimetype": "text/x-python",
   "name": "python",
   "nbconvert_exporter": "python",
   "pygments_lexer": "ipython3",
   "version": "3.10.0"
  },
  "toc": {
   "base_numbering": 1,
   "nav_menu": {},
   "number_sections": true,
   "sideBar": true,
   "skip_h1_title": false,
   "title_cell": "Table of Contents",
   "title_sidebar": "Contents",
   "toc_cell": false,
   "toc_position": {},
   "toc_section_display": true,
   "toc_window_display": false
  },
  "varInspector": {
   "cols": {
    "lenName": 16,
    "lenType": 16,
    "lenVar": 40
   },
   "kernels_config": {
    "python": {
     "delete_cmd_postfix": "",
     "delete_cmd_prefix": "del ",
     "library": "var_list.py",
     "varRefreshCmd": "print(var_dic_list())"
    },
    "r": {
     "delete_cmd_postfix": ") ",
     "delete_cmd_prefix": "rm(",
     "library": "var_list.r",
     "varRefreshCmd": "cat(var_dic_list()) "
    }
   },
   "types_to_exclude": [
    "module",
    "function",
    "builtin_function_or_method",
    "instance",
    "_Feature"
   ],
   "window_display": false
  }
 },
 "nbformat": 4,
 "nbformat_minor": 5
}
